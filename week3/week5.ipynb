{
 "cells": [
  {
   "cell_type": "code",
   "execution_count": 4,
   "metadata": {},
   "outputs": [],
   "source": [
    "# %pip install duckdb"
   ]
  },
  {
   "cell_type": "code",
   "execution_count": 5,
   "metadata": {},
   "outputs": [],
   "source": [
    "import duckdb"
   ]
  },
  {
   "cell_type": "markdown",
   "metadata": {},
   "source": [
    "1. Create connection and a cursor"
   ]
  },
  {
   "cell_type": "code",
   "execution_count": 6,
   "metadata": {},
   "outputs": [],
   "source": [
    "conn= duckdb.connect(\"database.db\")"
   ]
  },
  {
   "cell_type": "code",
   "execution_count": 7,
   "metadata": {},
   "outputs": [
    {
     "data": {
      "text/plain": [
       "<duckdb.duckdb.DuckDBPyConnection at 0x7f7898dd1a30>"
      ]
     },
     "execution_count": 7,
     "metadata": {},
     "output_type": "execute_result"
    }
   ],
   "source": [
    "conn"
   ]
  },
  {
   "cell_type": "markdown",
   "metadata": {},
   "source": [
    "Cursor is a way to connect a query and the results. Ask the cursor to execute SQL, and use it to get te results back. "
   ]
  },
  {
   "cell_type": "code",
   "execution_count": 8,
   "metadata": {},
   "outputs": [],
   "source": [
    "cur = conn.cursor()"
   ]
  },
  {
   "cell_type": "markdown",
   "metadata": {},
   "source": [
    "Now lets do something with our cursor:"
   ]
  },
  {
   "cell_type": "code",
   "execution_count": 9,
   "metadata": {},
   "outputs": [
    {
     "data": {
      "text/plain": [
       "<duckdb.duckdb.DuckDBPyConnection at 0x7fbe68dec130>"
      ]
     },
     "execution_count": 9,
     "metadata": {},
     "output_type": "execute_result"
    }
   ],
   "source": [
    "cur.execute(\"SELECT * FROM Site LIMIT 5\")"
   ]
  },
  {
   "cell_type": "markdown",
   "metadata": {},
   "source": [
    "This returns a list \n",
    "- each row returns a tuple of values "
   ]
  },
  {
   "cell_type": "code",
   "execution_count": 10,
   "metadata": {},
   "outputs": [
    {
     "data": {
      "text/plain": [
       "[('barr',\n",
       "  'Barrow',\n",
       "  'Alaska, USA',\n",
       "  71.30000305175781,\n",
       "  -156.60000610351562,\n",
       "  220.39999389648438),\n",
       " ('burn',\n",
       "  'Burntpoint Creek',\n",
       "  'Ontario, Canada',\n",
       "  55.20000076293945,\n",
       "  -84.30000305175781,\n",
       "  63.0),\n",
       " ('bylo',\n",
       "  'Bylot Island',\n",
       "  'Nunavut, Canada',\n",
       "  73.19999694824219,\n",
       "  -80.0,\n",
       "  723.5999755859375),\n",
       " ('cakr',\n",
       "  'Cape Krusenstern',\n",
       "  'Alaska, USA',\n",
       "  67.0999984741211,\n",
       "  -163.5,\n",
       "  54.099998474121094),\n",
       " ('cari',\n",
       "  'Canning River Delta',\n",
       "  'Alaska, USA',\n",
       "  70.0999984741211,\n",
       "  -145.8000030517578,\n",
       "  722.0)]"
      ]
     },
     "execution_count": 10,
     "metadata": {},
     "output_type": "execute_result"
    }
   ],
   "source": [
    "cur.fetchall()"
   ]
  },
  {
   "cell_type": "markdown",
   "metadata": {},
   "source": [
    "Cursors dont store anything, they just transfer queries to the database and get results back. \n",
    "\n",
    "If you just run the `cur.fetchall()` again you won't get results back unless you run the query. \n",
    "\n",
    "Always get back tuples, even if you only request one column."
   ]
  },
  {
   "cell_type": "code",
   "execution_count": 18,
   "metadata": {},
   "outputs": [
    {
     "data": {
      "text/plain": [
       "<duckdb.duckdb.DuckDBPyConnection at 0x7fbe68dec130>"
      ]
     },
     "execution_count": 18,
     "metadata": {},
     "output_type": "execute_result"
    }
   ],
   "source": [
    "cur.execute(\"SELECT Nest_ID FROM Bird_nests LIMIT 10\")"
   ]
  },
  {
   "cell_type": "code",
   "execution_count": 19,
   "metadata": {},
   "outputs": [
    {
     "data": {
      "text/plain": [
       "[]"
      ]
     },
     "execution_count": 19,
     "metadata": {},
     "output_type": "execute_result"
    }
   ],
   "source": [
    "cur.fetchall()\n"
   ]
  },
  {
   "cell_type": "code",
   "execution_count": 20,
   "metadata": {},
   "outputs": [
    {
     "data": {
      "text/plain": [
       "['14HPE1',\n",
       " '11eaba',\n",
       " '11eabaagc01',\n",
       " '11eabaagv01',\n",
       " '11eababbc02',\n",
       " '11eababsv01',\n",
       " '11eabaduh01',\n",
       " '11eabaduv01',\n",
       " '11eabarpc01',\n",
       " '11eabarpc02']"
      ]
     },
     "execution_count": 20,
     "metadata": {},
     "output_type": "execute_result"
    }
   ],
   "source": [
    "cur.execute(\"SELECT Nest_ID FROM Bird_nests LIMIT 10\")\n",
    "\n",
    "# pull out the 1 value from each tuple so that it only returns a list with the first value selected\n",
    "[t[0] for t in cur.fetchall()]"
   ]
  },
  {
   "cell_type": "markdown",
   "metadata": {},
   "source": [
    "2. Get the one result, or the next result"
   ]
  },
  {
   "cell_type": "code",
   "execution_count": 21,
   "metadata": {},
   "outputs": [
    {
     "data": {
      "text/plain": [
       "[(1547,)]"
      ]
     },
     "execution_count": 21,
     "metadata": {},
     "output_type": "execute_result"
    }
   ],
   "source": [
    "cur.execute(\"SELECT COUNT(*) FROM Bird_nests\")\n",
    "cur.fetchall()"
   ]
  },
  {
   "cell_type": "code",
   "execution_count": 25,
   "metadata": {},
   "outputs": [
    {
     "data": {
      "text/plain": [
       "(1547,)"
      ]
     },
     "execution_count": 25,
     "metadata": {},
     "output_type": "execute_result"
    }
   ],
   "source": [
    "cur.execute(\"SELECT COUNT(*) FROM Bird_nests\")\n",
    "\n",
    "# only getting a single result\n",
    "cur.fetchone()"
   ]
  },
  {
   "cell_type": "code",
   "execution_count": 24,
   "metadata": {},
   "outputs": [
    {
     "data": {
      "text/plain": [
       "1547"
      ]
     },
     "execution_count": 24,
     "metadata": {},
     "output_type": "execute_result"
    }
   ],
   "source": [
    "cur.execute(\"SELECT COUNT(*) FROM Bird_nests\")\n",
    "\n",
    "# extracting the number from the mini list\n",
    "cur.fetchone()[0]"
   ]
  },
  {
   "cell_type": "markdown",
   "metadata": {},
   "source": [
    "3. Using an iterator = but Duckdb doesnt support iterators :()"
   ]
  },
  {
   "cell_type": "code",
   "execution_count": 26,
   "metadata": {},
   "outputs": [
    {
     "ename": "TypeError",
     "evalue": "'duckdb.duckdb.DuckDBPyConnection' object is not iterable",
     "output_type": "error",
     "traceback": [
      "\u001b[0;31m---------------------------------------------------------------------------\u001b[0m",
      "\u001b[0;31mTypeError\u001b[0m                                 Traceback (most recent call last)",
      "Cell \u001b[0;32mIn[26], line 2\u001b[0m\n\u001b[1;32m      1\u001b[0m cur\u001b[39m.\u001b[39mexecute(\u001b[39m\"\u001b[39m\u001b[39mSELECT Nest_ID FROM Bird_nests LIMIT 10\u001b[39m\u001b[39m\"\u001b[39m)\n\u001b[0;32m----> 2\u001b[0m \u001b[39mfor\u001b[39;00m row \u001b[39min\u001b[39;00m cur:\n\u001b[1;32m      3\u001b[0m     \u001b[39mprint\u001b[39m(\u001b[39mf\u001b[39m\u001b[39m\"\u001b[39m\u001b[39mgot \u001b[39m\u001b[39m{\u001b[39;00mrow[\u001b[39m0\u001b[39m]\u001b[39m}\u001b[39;00m\u001b[39m\"\u001b[39m)\n",
      "\u001b[0;31mTypeError\u001b[0m: 'duckdb.duckdb.DuckDBPyConnection' object is not iterable"
     ]
    }
   ],
   "source": [
    "cur.execute(\"SELECT Nest_ID FROM Bird_nests LIMIT 10\")\n",
    "for row in cur:\n",
    "    print(f\"got {row[0]}\")"
   ]
  },
  {
   "cell_type": "code",
   "execution_count": 27,
   "metadata": {},
   "outputs": [
    {
     "name": "stdout",
     "output_type": "stream",
     "text": [
      "got nest ID 14HPE1\n",
      "got nest ID 11eaba\n",
      "got nest ID 11eabaagc01\n",
      "got nest ID 11eabaagv01\n",
      "got nest ID 11eababbc02\n",
      "got nest ID 11eababsv01\n",
      "got nest ID 11eabaduh01\n",
      "got nest ID 11eabaduv01\n",
      "got nest ID 11eabarpc01\n",
      "got nest ID 11eabarpc02\n"
     ]
    }
   ],
   "source": [
    "cur.execute(\"SELECT Nest_ID FROM Bird_nests LIMIT 10\")\n",
    "while True:\n",
    "    row = cur.fetchone()\n",
    "    if row == None:\n",
    "        break\n",
    "    # do something with row\n",
    "    print(f\"got nest ID {row[0]}\")"
   ]
  },
  {
   "cell_type": "code",
   "execution_count": 29,
   "metadata": {},
   "outputs": [
    {
     "data": {
      "text/plain": [
       "<duckdb.duckdb.DuckDBPyConnection at 0x7fbe68dec130>"
      ]
     },
     "execution_count": 29,
     "metadata": {},
     "output_type": "execute_result"
    }
   ],
   "source": [
    "# \"\"\" is a way to quote multiline string\n",
    "\n",
    "cur.execute(\"\"\" \n",
    "            CREATE TEMP TABLE temp_table AS\n",
    "            SELECT * FROM Bird_nests LIMIT 10\n",
    "            \"\"\")"
   ]
  },
  {
   "cell_type": "code",
   "execution_count": 31,
   "metadata": {},
   "outputs": [
    {
     "data": {
      "text/plain": [
       "[('b14.6',\n",
       "  2014,\n",
       "  'chur',\n",
       "  '14HPE1',\n",
       "  'sepl',\n",
       "  'vloverti',\n",
       "  datetime.date(2014, 6, 14),\n",
       "  None,\n",
       "  3,\n",
       "  None,\n",
       "  None),\n",
       " ('b11.7',\n",
       "  2011,\n",
       "  'eaba',\n",
       "  '11eaba',\n",
       "  'wrsa',\n",
       "  'bhill',\n",
       "  datetime.date(2011, 7, 10),\n",
       "  'searcher',\n",
       "  4,\n",
       "  None,\n",
       "  None),\n",
       " ('b11.6',\n",
       "  2011,\n",
       "  'eaba',\n",
       "  '11eabaagc01',\n",
       "  'amgp',\n",
       "  'dkessler',\n",
       "  datetime.date(2011, 6, 24),\n",
       "  'searcher',\n",
       "  4,\n",
       "  6.0,\n",
       "  'float'),\n",
       " ('b11.6',\n",
       "  2011,\n",
       "  'eaba',\n",
       "  '11eabaagv01',\n",
       "  'amgp',\n",
       "  'dkessler',\n",
       "  datetime.date(2011, 6, 25),\n",
       "  'searcher',\n",
       "  3,\n",
       "  3.0,\n",
       "  'float'),\n",
       " ('b11.6',\n",
       "  2011,\n",
       "  'eaba',\n",
       "  '11eababbc02',\n",
       "  'bbpl',\n",
       "  'dkessler',\n",
       "  datetime.date(2011, 6, 24),\n",
       "  'searcher',\n",
       "  4,\n",
       "  4.0,\n",
       "  'float'),\n",
       " ('b11.7',\n",
       "  2011,\n",
       "  'eaba',\n",
       "  '11eababsv01',\n",
       "  'wrsa',\n",
       "  'bhill',\n",
       "  datetime.date(2011, 7, 7),\n",
       "  'searcher',\n",
       "  4,\n",
       "  2.0,\n",
       "  'float'),\n",
       " ('b11.6',\n",
       "  2011,\n",
       "  'eaba',\n",
       "  '11eabaduh01',\n",
       "  'dunl',\n",
       "  'dkessler',\n",
       "  datetime.date(2011, 6, 28),\n",
       "  'searcher',\n",
       "  3,\n",
       "  2.0,\n",
       "  'float'),\n",
       " ('b11.6',\n",
       "  2011,\n",
       "  'eaba',\n",
       "  '11eabaduv01',\n",
       "  'dunl',\n",
       "  'dkessler',\n",
       "  datetime.date(2011, 6, 29),\n",
       "  'searcher',\n",
       "  4,\n",
       "  5.0,\n",
       "  'float'),\n",
       " ('b11.7',\n",
       "  2011,\n",
       "  'eaba',\n",
       "  '11eabarpc01',\n",
       "  'reph',\n",
       "  'bhill',\n",
       "  datetime.date(2011, 7, 8),\n",
       "  'searcher',\n",
       "  4,\n",
       "  4.0,\n",
       "  'float'),\n",
       " ('b11.7',\n",
       "  2011,\n",
       "  'eaba',\n",
       "  '11eabarpc02',\n",
       "  'reph',\n",
       "  'bhill',\n",
       "  datetime.date(2011, 7, 8),\n",
       "  'searcher',\n",
       "  3,\n",
       "  4.0,\n",
       "  'float')]"
      ]
     },
     "execution_count": 31,
     "metadata": {},
     "output_type": "execute_result"
    }
   ],
   "source": [
    "cur.execute(\"SELECT * FROM temp_table\")\n",
    "cur.fetchall()"
   ]
  },
  {
   "cell_type": "markdown",
   "metadata": {},
   "source": [
    "A note on fragility:\n",
    "\n",
    "For example:\n",
    "INSERT INTO Site VALUES (\"abcd\", \"Foo\", 35.7, -119, \"?\") # this order has to match column order\n",
    "\n",
    "A less fragile way:\n",
    "INSERT INTO Site (Code, Site_name, Latitude, Longitude, Something_else) \n",
    "    VALUES (\"abcd\", \"Foo\", 35.7, -119, \"?\")\n",
    "\n",
    "Similarly: SELECT * is fragile\n",
    "\n",
    "When coding, don't say SELECT *, be more explicit with coding so that you can ensure clear communication and be robust against any other changes"
   ]
  },
  {
   "cell_type": "code",
   "execution_count": 32,
   "metadata": {},
   "outputs": [
    {
     "data": {
      "text/plain": [
       "[('Barrow', 'barr', 71.30000305175781, -156.60000610351562),\n",
       " ('Burntpoint Creek', 'burn', 55.20000076293945, -84.30000305175781),\n",
       " ('Bylot Island', 'bylo', 73.19999694824219, -80.0)]"
      ]
     },
     "execution_count": 32,
     "metadata": {},
     "output_type": "execute_result"
    }
   ],
   "source": [
    "# select the specific columns\n",
    "cur.execute(\"SELECT Site_name, Code, Latitude, Longitude FROM Site LIMIT 3\")\n",
    "cur.fetchall()"
   ]
  },
  {
   "cell_type": "markdown",
   "metadata": {},
   "source": [
    "Extended Example:\n",
    "How many nests to be have for each species?\n",
    "\n",
    "Approach:\n",
    "1. get all species\n",
    "2. execute count query for each species"
   ]
  },
  {
   "cell_type": "code",
   "execution_count": 9,
   "metadata": {},
   "outputs": [
    {
     "name": "stdout",
     "output_type": "stream",
     "text": [
      "\n",
      "    SELECT COUNT(*) FROM Bird_nests\n",
      "    WHERE Species = 'agsq'\n",
      "\n",
      "\n",
      "    SELECT COUNT(*) FROM Bird_nests\n",
      "    WHERE Species = 'amcr'\n",
      "\n",
      "\n",
      "    SELECT COUNT(*) FROM Bird_nests\n",
      "    WHERE Species = 'amgp'\n",
      "\n"
     ]
    }
   ],
   "source": [
    "query = \"\"\"\n",
    "    SELECT COUNT(*) FROM Bird_nests\n",
    "    WHERE Species = '%s'\n",
    "\"\"\"\n",
    "\n",
    "cur.execute(\"SELECT Code FROM Species LIMIT 3\")\n",
    "for row in cur.fetchall(): # DuckDB workaround\n",
    "    code = row[0]\n",
    "    prepared_query = query % code\n",
    "    print(prepared_query)"
   ]
  },
  {
   "cell_type": "code",
   "execution_count": 13,
   "metadata": {},
   "outputs": [
    {
     "name": "stdout",
     "output_type": "stream",
     "text": [
      "My name is Greg\n",
      "My name is Greg and the other teachers name is Julian\n",
      "My name is Greg\n",
      "My name is Greg\n"
     ]
    }
   ],
   "source": [
    "# a note on %s\n",
    "s = \"My name is %s\"\n",
    "print(s % \"Greg\")\n",
    "\n",
    "s = \"My name is %s and the other teachers name is %s\"\n",
    "print(s % (\"Greg\", \"Julian\"))\n",
    "\n",
    "# the new way \n",
    "name = \"Greg\"\n",
    "print(f\"My name is {name}\")\n",
    "\n",
    "# the third way\n",
    "print(\"My name is {}\".format(\"Greg\"))"
   ]
  },
  {
   "cell_type": "code",
   "execution_count": 15,
   "metadata": {},
   "outputs": [
    {
     "name": "stdout",
     "output_type": "stream",
     "text": [
      "Species agsq has 0 nests\n",
      "Species amcr has 0 nests\n",
      "Species amgp has 29 nests\n"
     ]
    }
   ],
   "source": [
    "query = \"\"\"\n",
    "    SELECT COUNT(*) FROM Bird_nests\n",
    "    WHERE Species = '%s'\n",
    "\"\"\"\n",
    "\n",
    "cur.execute(\"SELECT Code FROM Species LIMIT 3\")\n",
    "for row in cur.fetchall(): # DuckDB workaround\n",
    "    code = row[0]\n",
    "    prepared_query = query % code\n",
    "    #print(prepared_query)\n",
    "    cur2 = conn.cursor()\n",
    "    cur2.execute(prepared_query)\n",
    "    print(f\"Species {code} has {cur2.fetchone()[0]} nests\")\n",
    "    cur2.close()"
   ]
  },
  {
   "cell_type": "markdown",
   "metadata": {},
   "source": [
    "The above Python interpolation is dangerous an dhas caused many database hacks!\n",
    "\n",
    "Theres a better way:"
   ]
  },
  {
   "cell_type": "code",
   "execution_count": 16,
   "metadata": {},
   "outputs": [
    {
     "name": "stdout",
     "output_type": "stream",
     "text": [
      "Intel MKL WARNING: Support of Intel(R) Streaming SIMD Extensions 4.2 (Intel(R) SSE4.2) enabled only processors has been deprecated. Intel oneAPI Math Kernel Library 2025.0 will require Intel(R) Advanced Vector Extensions (Intel(R) AVX) instructions.\n",
      "Intel MKL WARNING: Support of Intel(R) Streaming SIMD Extensions 4.2 (Intel(R) SSE4.2) enabled only processors has been deprecated. Intel oneAPI Math Kernel Library 2025.0 will require Intel(R) Advanced Vector Extensions (Intel(R) AVX) instructions.\n",
      "Species agsq has 0 nests\n",
      "Species amcr has 0 nests\n",
      "Species amgp has 29 nests\n"
     ]
    }
   ],
   "source": [
    "# change the query for Species to a '?' instead of a '%s'\n",
    "query = \"\"\"\n",
    "    SELECT COUNT(*) FROM Bird_nests\n",
    "    WHERE Species = ? \n",
    "\"\"\"\n",
    "\n",
    "cur.execute(\"SELECT Code FROM Species LIMIT 3\")\n",
    "for row in cur.fetchall(): # DuckDB workaround\n",
    "    code = row[0]\n",
    "    # NOT NEEDED prepared_query = query % code\n",
    "    #print(prepared_query)\n",
    "    cur2 = conn.cursor()\n",
    "    cur2.execute(query, [code]) # <-- added new argument here...ADD in [code] value to fill in for ?\n",
    "    print(f\"Species {code} has {cur2.fetchone()[0]} nests\")\n",
    "    cur2.close()"
   ]
  },
  {
   "cell_type": "markdown",
   "metadata": {},
   "source": [
    "Let's illustrate the danger with a different example...\n",
    "\n",
    "Adding something else to the personell columnS"
   ]
  },
  {
   "cell_type": "code",
   "execution_count": 17,
   "metadata": {},
   "outputs": [
    {
     "data": {
      "text/plain": [
       "<duckdb.duckdb.DuckDBPyConnection at 0x7f7898dbceb0>"
      ]
     },
     "execution_count": 17,
     "metadata": {},
     "output_type": "execute_result"
    }
   ],
   "source": [
    "abbrev = \"TS\"\n",
    "name = \"Taylor Swift\"\n",
    "cur.execute(\"\"\"\n",
    "    INSERT INTO Personnel (Abbreviation, Name)\n",
    "            VALUES('%s', '%s')\n",
    "\"\"\" % (abbrev, name))"
   ]
  },
  {
   "cell_type": "code",
   "execution_count": 18,
   "metadata": {},
   "outputs": [
    {
     "data": {
      "text/plain": [
       "[('emagnuson', 'Emily Magnuson'),\n",
       " ('mcorrell', 'Maureen Correll'),\n",
       " ('TS', 'Taylor Swift')]"
      ]
     },
     "execution_count": 18,
     "metadata": {},
     "output_type": "execute_result"
    }
   ],
   "source": [
    "# check the personnel\n",
    "cur.execute(\"SELECT * FROM Personnel\")\n",
    "cur.fetchall()[-3:]"
   ]
  },
  {
   "cell_type": "markdown",
   "metadata": {},
   "source": [
    "Get a syntax error because of the apostraphe ' "
   ]
  },
  {
   "cell_type": "code",
   "execution_count": 19,
   "metadata": {},
   "outputs": [
    {
     "ename": "ParserException",
     "evalue": "Parser Error: syntax error at or near \"Brian\"",
     "output_type": "error",
     "traceback": [
      "\u001b[0;31m---------------------------------------------------------------------------\u001b[0m",
      "\u001b[0;31mParserException\u001b[0m                           Traceback (most recent call last)",
      "Cell \u001b[0;32mIn[19], line 3\u001b[0m\n\u001b[1;32m      1\u001b[0m abbrev \u001b[39m=\u001b[39m \u001b[39m\"\u001b[39m\u001b[39mCO\u001b[39m\u001b[39m\"\u001b[39m\n\u001b[1;32m      2\u001b[0m name \u001b[39m=\u001b[39m \u001b[39m\"\u001b[39m\u001b[39mConan O\u001b[39m\u001b[39m'\u001b[39m\u001b[39mBrian\u001b[39m\u001b[39m\"\u001b[39m\n\u001b[0;32m----> 3\u001b[0m cur\u001b[39m.\u001b[39;49mexecute(\u001b[39m\"\"\"\u001b[39;49m\n\u001b[1;32m      4\u001b[0m \u001b[39m    INSERT INTO Personnel (Abbreviation, Name)\u001b[39;49m\n\u001b[1;32m      5\u001b[0m \u001b[39m            VALUES(\u001b[39;49m\u001b[39m'\u001b[39;49m\u001b[39m%s\u001b[39;49;00m\u001b[39m'\u001b[39;49m\u001b[39m, \u001b[39;49m\u001b[39m'\u001b[39;49m\u001b[39m%s\u001b[39;49;00m\u001b[39m'\u001b[39;49m\u001b[39m)\u001b[39;49m\n\u001b[1;32m      6\u001b[0m \u001b[39m\"\"\"\u001b[39;49m \u001b[39m%\u001b[39;49m (abbrev, name))\n",
      "\u001b[0;31mParserException\u001b[0m: Parser Error: syntax error at or near \"Brian\""
     ]
    }
   ],
   "source": [
    "abbrev = \"CO\"\n",
    "name = \"Conan O'Brian\" # this will cause an error in the code below\n",
    "cur.execute(\"\"\"\n",
    "    INSERT INTO Personnel (Abbreviation, Name)\n",
    "            VALUES('%s', '%s')\n",
    "\"\"\" % (abbrev, name))"
   ]
  },
  {
   "cell_type": "markdown",
   "metadata": {},
   "source": [
    "Now try using the ? method:"
   ]
  },
  {
   "cell_type": "code",
   "execution_count": 20,
   "metadata": {},
   "outputs": [
    {
     "data": {
      "text/plain": [
       "<duckdb.duckdb.DuckDBPyConnection at 0x7f7898dbceb0>"
      ]
     },
     "execution_count": 20,
     "metadata": {},
     "output_type": "execute_result"
    }
   ],
   "source": [
    "abbrev = \"CO\"\n",
    "name = \"Conan O'Brian\" # this will cause an error in the code below\n",
    "cur.execute(\"\"\"\n",
    "    INSERT INTO Personnel (Abbreviation, Name)\n",
    "            VALUES(?,?)\n",
    "\"\"\",\n",
    " [abbrev, name])"
   ]
  },
  {
   "cell_type": "code",
   "execution_count": 21,
   "metadata": {},
   "outputs": [
    {
     "data": {
      "text/plain": [
       "[('mcorrell', 'Maureen Correll'),\n",
       " ('TS', 'Taylor Swift'),\n",
       " ('CO', \"Conan O'Brian\")]"
      ]
     },
     "execution_count": 21,
     "metadata": {},
     "output_type": "execute_result"
    }
   ],
   "source": [
    "# check the personnel\n",
    "cur.execute(\"SELECT * FROM Personnel\")\n",
    "cur.fetchall()[-3:]"
   ]
  }
 ],
 "metadata": {
  "kernelspec": {
   "display_name": "Python (eds217_2023)",
   "language": "python",
   "name": "eds217_2023"
  },
  "language_info": {
   "codemirror_mode": {
    "name": "ipython",
    "version": 3
   },
   "file_extension": ".py",
   "mimetype": "text/x-python",
   "name": "python",
   "nbconvert_exporter": "python",
   "pygments_lexer": "ipython3",
   "version": "3.10.12"
  },
  "orig_nbformat": 4
 },
 "nbformat": 4,
 "nbformat_minor": 2
}
