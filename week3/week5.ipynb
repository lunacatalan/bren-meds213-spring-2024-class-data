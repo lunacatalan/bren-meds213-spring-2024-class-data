{
 "cells": [
  {
   "cell_type": "code",
   "execution_count": 4,
   "metadata": {},
   "outputs": [],
   "source": [
    "# %pip install duckdb"
   ]
  },
  {
   "cell_type": "code",
   "execution_count": 1,
   "metadata": {},
   "outputs": [],
   "source": [
    "import duckdb"
   ]
  },
  {
   "cell_type": "markdown",
   "metadata": {},
   "source": [
    "1. Create connection and a cursor"
   ]
  },
  {
   "cell_type": "code",
   "execution_count": 2,
   "metadata": {},
   "outputs": [],
   "source": [
    "conn= duckdb.connect(\"database.db\")"
   ]
  },
  {
   "cell_type": "code",
   "execution_count": 3,
   "metadata": {},
   "outputs": [
    {
     "data": {
      "text/plain": [
       "<duckdb.duckdb.DuckDBPyConnection at 0x7f8a40c87a30>"
      ]
     },
     "execution_count": 3,
     "metadata": {},
     "output_type": "execute_result"
    }
   ],
   "source": [
    "conn"
   ]
  },
  {
   "cell_type": "markdown",
   "metadata": {},
   "source": [
    "Cursor is a way to connect a query and the results. Ask the cursor to execute SQL, and use it to get te results back. "
   ]
  },
  {
   "cell_type": "code",
   "execution_count": 4,
   "metadata": {},
   "outputs": [],
   "source": [
    "cur = conn.cursor()"
   ]
  },
  {
   "cell_type": "markdown",
   "metadata": {},
   "source": [
    "Now lets do something with our cursor:"
   ]
  },
  {
   "cell_type": "code",
   "execution_count": 21,
   "metadata": {},
   "outputs": [
    {
     "data": {
      "text/plain": [
       "<duckdb.duckdb.DuckDBPyConnection at 0x7f8a40c86cb0>"
      ]
     },
     "execution_count": 21,
     "metadata": {},
     "output_type": "execute_result"
    }
   ],
   "source": [
    "cur.execute(\"SELECT * FROM Site LIMIT 5\")"
   ]
  },
  {
   "cell_type": "markdown",
   "metadata": {},
   "source": [
    "This returns a list \n",
    "- each row returns a tuple of values "
   ]
  },
  {
   "cell_type": "code",
   "execution_count": 22,
   "metadata": {},
   "outputs": [
    {
     "data": {
      "text/plain": [
       "[('barr',\n",
       "  'Barrow',\n",
       "  'Alaska, USA',\n",
       "  71.30000305175781,\n",
       "  -156.60000610351562,\n",
       "  220.39999389648438),\n",
       " ('burn',\n",
       "  'Burntpoint Creek',\n",
       "  'Ontario, Canada',\n",
       "  55.20000076293945,\n",
       "  -84.30000305175781,\n",
       "  63.0),\n",
       " ('bylo',\n",
       "  'Bylot Island',\n",
       "  'Nunavut, Canada',\n",
       "  73.19999694824219,\n",
       "  -80.0,\n",
       "  723.5999755859375),\n",
       " ('cakr',\n",
       "  'Cape Krusenstern',\n",
       "  'Alaska, USA',\n",
       "  67.0999984741211,\n",
       "  -163.5,\n",
       "  54.099998474121094),\n",
       " ('cari',\n",
       "  'Canning River Delta',\n",
       "  'Alaska, USA',\n",
       "  70.0999984741211,\n",
       "  -145.8000030517578,\n",
       "  722.0)]"
      ]
     },
     "execution_count": 22,
     "metadata": {},
     "output_type": "execute_result"
    }
   ],
   "source": [
    "cur.fetchall()"
   ]
  },
  {
   "cell_type": "markdown",
   "metadata": {},
   "source": [
    "Cursors dont store anything, they just transfer queries to the database and get results back. \n",
    "\n",
    "If you just run the `cur.fetchall()` again you won't get results back unless you run the query. \n",
    "\n",
    "Always get back tuples, even if you only request one column."
   ]
  },
  {
   "cell_type": "code",
   "execution_count": 18,
   "metadata": {},
   "outputs": [
    {
     "data": {
      "text/plain": [
       "<duckdb.duckdb.DuckDBPyConnection at 0x7fbe68dec130>"
      ]
     },
     "execution_count": 18,
     "metadata": {},
     "output_type": "execute_result"
    }
   ],
   "source": [
    "cur.execute(\"SELECT Nest_ID FROM Bird_nests LIMIT 10\")"
   ]
  },
  {
   "cell_type": "code",
   "execution_count": 19,
   "metadata": {},
   "outputs": [
    {
     "data": {
      "text/plain": [
       "[]"
      ]
     },
     "execution_count": 19,
     "metadata": {},
     "output_type": "execute_result"
    }
   ],
   "source": [
    "cur.fetchall()\n"
   ]
  },
  {
   "cell_type": "code",
   "execution_count": 20,
   "metadata": {},
   "outputs": [
    {
     "data": {
      "text/plain": [
       "['14HPE1',\n",
       " '11eaba',\n",
       " '11eabaagc01',\n",
       " '11eabaagv01',\n",
       " '11eababbc02',\n",
       " '11eababsv01',\n",
       " '11eabaduh01',\n",
       " '11eabaduv01',\n",
       " '11eabarpc01',\n",
       " '11eabarpc02']"
      ]
     },
     "execution_count": 20,
     "metadata": {},
     "output_type": "execute_result"
    }
   ],
   "source": [
    "cur.execute(\"SELECT Nest_ID FROM Bird_nests LIMIT 10\")\n",
    "\n",
    "# pull out the 1 value from each tuple so that it only returns a list with the first value selected\n",
    "[t[0] for t in cur.fetchall()]"
   ]
  },
  {
   "cell_type": "markdown",
   "metadata": {},
   "source": [
    "2. Get the one result, or the next result"
   ]
  },
  {
   "cell_type": "code",
   "execution_count": 21,
   "metadata": {},
   "outputs": [
    {
     "data": {
      "text/plain": [
       "[(1547,)]"
      ]
     },
     "execution_count": 21,
     "metadata": {},
     "output_type": "execute_result"
    }
   ],
   "source": [
    "cur.execute(\"SELECT COUNT(*) FROM Bird_nests\")\n",
    "cur.fetchall()"
   ]
  },
  {
   "cell_type": "code",
   "execution_count": 25,
   "metadata": {},
   "outputs": [
    {
     "data": {
      "text/plain": [
       "(1547,)"
      ]
     },
     "execution_count": 25,
     "metadata": {},
     "output_type": "execute_result"
    }
   ],
   "source": [
    "cur.execute(\"SELECT COUNT(*) FROM Bird_nests\")\n",
    "\n",
    "# only getting a single result\n",
    "cur.fetchone()"
   ]
  },
  {
   "cell_type": "code",
   "execution_count": 24,
   "metadata": {},
   "outputs": [
    {
     "data": {
      "text/plain": [
       "1547"
      ]
     },
     "execution_count": 24,
     "metadata": {},
     "output_type": "execute_result"
    }
   ],
   "source": [
    "cur.execute(\"SELECT COUNT(*) FROM Bird_nests\")\n",
    "\n",
    "# extracting the number from the mini list\n",
    "cur.fetchone()[0]"
   ]
  },
  {
   "cell_type": "markdown",
   "metadata": {},
   "source": [
    "3. Using an iterator = but Duckdb doesnt support iterators :()"
   ]
  },
  {
   "cell_type": "code",
   "execution_count": 26,
   "metadata": {},
   "outputs": [
    {
     "ename": "TypeError",
     "evalue": "'duckdb.duckdb.DuckDBPyConnection' object is not iterable",
     "output_type": "error",
     "traceback": [
      "\u001b[0;31m---------------------------------------------------------------------------\u001b[0m",
      "\u001b[0;31mTypeError\u001b[0m                                 Traceback (most recent call last)",
      "Cell \u001b[0;32mIn[26], line 2\u001b[0m\n\u001b[1;32m      1\u001b[0m cur\u001b[39m.\u001b[39mexecute(\u001b[39m\"\u001b[39m\u001b[39mSELECT Nest_ID FROM Bird_nests LIMIT 10\u001b[39m\u001b[39m\"\u001b[39m)\n\u001b[0;32m----> 2\u001b[0m \u001b[39mfor\u001b[39;00m row \u001b[39min\u001b[39;00m cur:\n\u001b[1;32m      3\u001b[0m     \u001b[39mprint\u001b[39m(\u001b[39mf\u001b[39m\u001b[39m\"\u001b[39m\u001b[39mgot \u001b[39m\u001b[39m{\u001b[39;00mrow[\u001b[39m0\u001b[39m]\u001b[39m}\u001b[39;00m\u001b[39m\"\u001b[39m)\n",
      "\u001b[0;31mTypeError\u001b[0m: 'duckdb.duckdb.DuckDBPyConnection' object is not iterable"
     ]
    }
   ],
   "source": [
    "cur.execute(\"SELECT Nest_ID FROM Bird_nests LIMIT 10\")\n",
    "for row in cur:\n",
    "    print(f\"got {row[0]}\")"
   ]
  },
  {
   "cell_type": "code",
   "execution_count": 27,
   "metadata": {},
   "outputs": [
    {
     "name": "stdout",
     "output_type": "stream",
     "text": [
      "got nest ID 14HPE1\n",
      "got nest ID 11eaba\n",
      "got nest ID 11eabaagc01\n",
      "got nest ID 11eabaagv01\n",
      "got nest ID 11eababbc02\n",
      "got nest ID 11eababsv01\n",
      "got nest ID 11eabaduh01\n",
      "got nest ID 11eabaduv01\n",
      "got nest ID 11eabarpc01\n",
      "got nest ID 11eabarpc02\n"
     ]
    }
   ],
   "source": [
    "cur.execute(\"SELECT Nest_ID FROM Bird_nests LIMIT 10\")\n",
    "while True:\n",
    "    row = cur.fetchone()\n",
    "    if row == None:\n",
    "        break\n",
    "    # do something with row\n",
    "    print(f\"got nest ID {row[0]}\")"
   ]
  },
  {
   "cell_type": "code",
   "execution_count": 29,
   "metadata": {},
   "outputs": [
    {
     "data": {
      "text/plain": [
       "<duckdb.duckdb.DuckDBPyConnection at 0x7fbe68dec130>"
      ]
     },
     "execution_count": 29,
     "metadata": {},
     "output_type": "execute_result"
    }
   ],
   "source": [
    "# \"\"\" is a way to quote multiline string\n",
    "\n",
    "cur.execute(\"\"\" \n",
    "            CREATE TEMP TABLE temp_table AS\n",
    "            SELECT * FROM Bird_nests LIMIT 10\n",
    "            \"\"\")"
   ]
  },
  {
   "cell_type": "code",
   "execution_count": 31,
   "metadata": {},
   "outputs": [
    {
     "data": {
      "text/plain": [
       "[('b14.6',\n",
       "  2014,\n",
       "  'chur',\n",
       "  '14HPE1',\n",
       "  'sepl',\n",
       "  'vloverti',\n",
       "  datetime.date(2014, 6, 14),\n",
       "  None,\n",
       "  3,\n",
       "  None,\n",
       "  None),\n",
       " ('b11.7',\n",
       "  2011,\n",
       "  'eaba',\n",
       "  '11eaba',\n",
       "  'wrsa',\n",
       "  'bhill',\n",
       "  datetime.date(2011, 7, 10),\n",
       "  'searcher',\n",
       "  4,\n",
       "  None,\n",
       "  None),\n",
       " ('b11.6',\n",
       "  2011,\n",
       "  'eaba',\n",
       "  '11eabaagc01',\n",
       "  'amgp',\n",
       "  'dkessler',\n",
       "  datetime.date(2011, 6, 24),\n",
       "  'searcher',\n",
       "  4,\n",
       "  6.0,\n",
       "  'float'),\n",
       " ('b11.6',\n",
       "  2011,\n",
       "  'eaba',\n",
       "  '11eabaagv01',\n",
       "  'amgp',\n",
       "  'dkessler',\n",
       "  datetime.date(2011, 6, 25),\n",
       "  'searcher',\n",
       "  3,\n",
       "  3.0,\n",
       "  'float'),\n",
       " ('b11.6',\n",
       "  2011,\n",
       "  'eaba',\n",
       "  '11eababbc02',\n",
       "  'bbpl',\n",
       "  'dkessler',\n",
       "  datetime.date(2011, 6, 24),\n",
       "  'searcher',\n",
       "  4,\n",
       "  4.0,\n",
       "  'float'),\n",
       " ('b11.7',\n",
       "  2011,\n",
       "  'eaba',\n",
       "  '11eababsv01',\n",
       "  'wrsa',\n",
       "  'bhill',\n",
       "  datetime.date(2011, 7, 7),\n",
       "  'searcher',\n",
       "  4,\n",
       "  2.0,\n",
       "  'float'),\n",
       " ('b11.6',\n",
       "  2011,\n",
       "  'eaba',\n",
       "  '11eabaduh01',\n",
       "  'dunl',\n",
       "  'dkessler',\n",
       "  datetime.date(2011, 6, 28),\n",
       "  'searcher',\n",
       "  3,\n",
       "  2.0,\n",
       "  'float'),\n",
       " ('b11.6',\n",
       "  2011,\n",
       "  'eaba',\n",
       "  '11eabaduv01',\n",
       "  'dunl',\n",
       "  'dkessler',\n",
       "  datetime.date(2011, 6, 29),\n",
       "  'searcher',\n",
       "  4,\n",
       "  5.0,\n",
       "  'float'),\n",
       " ('b11.7',\n",
       "  2011,\n",
       "  'eaba',\n",
       "  '11eabarpc01',\n",
       "  'reph',\n",
       "  'bhill',\n",
       "  datetime.date(2011, 7, 8),\n",
       "  'searcher',\n",
       "  4,\n",
       "  4.0,\n",
       "  'float'),\n",
       " ('b11.7',\n",
       "  2011,\n",
       "  'eaba',\n",
       "  '11eabarpc02',\n",
       "  'reph',\n",
       "  'bhill',\n",
       "  datetime.date(2011, 7, 8),\n",
       "  'searcher',\n",
       "  3,\n",
       "  4.0,\n",
       "  'float')]"
      ]
     },
     "execution_count": 31,
     "metadata": {},
     "output_type": "execute_result"
    }
   ],
   "source": [
    "cur.execute(\"SELECT * FROM temp_table\")\n",
    "cur.fetchall()"
   ]
  },
  {
   "cell_type": "markdown",
   "metadata": {},
   "source": [
    "A note on fragility:\n",
    "\n",
    "For example:\n",
    "INSERT INTO Site VALUES (\"abcd\", \"Foo\", 35.7, -119, \"?\") # this order has to match column order\n",
    "\n",
    "A less fragile way:\n",
    "INSERT INTO Site (Code, Site_name, Latitude, Longitude, Something_else) \n",
    "    VALUES (\"abcd\", \"Foo\", 35.7, -119, \"?\")\n",
    "\n",
    "Similarly: SELECT * is fragile\n",
    "\n",
    "When coding, don't say SELECT *, be more explicit with coding so that you can ensure clear communication and be robust against any other changes"
   ]
  },
  {
   "cell_type": "code",
   "execution_count": 32,
   "metadata": {},
   "outputs": [
    {
     "data": {
      "text/plain": [
       "[('Barrow', 'barr', 71.30000305175781, -156.60000610351562),\n",
       " ('Burntpoint Creek', 'burn', 55.20000076293945, -84.30000305175781),\n",
       " ('Bylot Island', 'bylo', 73.19999694824219, -80.0)]"
      ]
     },
     "execution_count": 32,
     "metadata": {},
     "output_type": "execute_result"
    }
   ],
   "source": [
    "# select the specific columns\n",
    "cur.execute(\"SELECT Site_name, Code, Latitude, Longitude FROM Site LIMIT 3\")\n",
    "cur.fetchall()"
   ]
  },
  {
   "cell_type": "markdown",
   "metadata": {},
   "source": [
    "Extended Example:\n",
    "How many nests to be have for each species?\n",
    "\n",
    "Approach:\n",
    "1. get all species\n",
    "2. execute count query for each species"
   ]
  },
  {
   "cell_type": "code",
   "execution_count": 9,
   "metadata": {},
   "outputs": [
    {
     "name": "stdout",
     "output_type": "stream",
     "text": [
      "\n",
      "    SELECT COUNT(*) FROM Bird_nests\n",
      "    WHERE Species = 'agsq'\n",
      "\n",
      "\n",
      "    SELECT COUNT(*) FROM Bird_nests\n",
      "    WHERE Species = 'amcr'\n",
      "\n",
      "\n",
      "    SELECT COUNT(*) FROM Bird_nests\n",
      "    WHERE Species = 'amgp'\n",
      "\n"
     ]
    }
   ],
   "source": [
    "query = \"\"\"\n",
    "    SELECT COUNT(*) FROM Bird_nests\n",
    "    WHERE Species = '%s'\n",
    "\"\"\"\n",
    "\n",
    "cur.execute(\"SELECT Code FROM Species LIMIT 3\")\n",
    "for row in cur.fetchall(): # DuckDB workaround\n",
    "    code = row[0]\n",
    "    prepared_query = query % code\n",
    "    print(prepared_query)"
   ]
  },
  {
   "cell_type": "code",
   "execution_count": 13,
   "metadata": {},
   "outputs": [
    {
     "name": "stdout",
     "output_type": "stream",
     "text": [
      "My name is Greg\n",
      "My name is Greg and the other teachers name is Julian\n",
      "My name is Greg\n",
      "My name is Greg\n"
     ]
    }
   ],
   "source": [
    "# a note on %s\n",
    "s = \"My name is %s\"\n",
    "print(s % \"Greg\")\n",
    "\n",
    "s = \"My name is %s and the other teachers name is %s\"\n",
    "print(s % (\"Greg\", \"Julian\"))\n",
    "\n",
    "# the new way \n",
    "name = \"Greg\"\n",
    "print(f\"My name is {name}\")\n",
    "\n",
    "# the third way\n",
    "print(\"My name is {}\".format(\"Greg\"))"
   ]
  },
  {
   "cell_type": "code",
   "execution_count": 15,
   "metadata": {},
   "outputs": [
    {
     "name": "stdout",
     "output_type": "stream",
     "text": [
      "Species agsq has 0 nests\n",
      "Species amcr has 0 nests\n",
      "Species amgp has 29 nests\n"
     ]
    }
   ],
   "source": [
    "query = \"\"\"\n",
    "    SELECT COUNT(*) FROM Bird_nests\n",
    "    WHERE Species = '%s'\n",
    "\"\"\"\n",
    "\n",
    "cur.execute(\"SELECT Code FROM Species LIMIT 3\")\n",
    "for row in cur.fetchall(): # DuckDB workaround\n",
    "    code = row[0]\n",
    "    prepared_query = query % code\n",
    "    #print(prepared_query)\n",
    "    cur2 = conn.cursor()\n",
    "    cur2.execute(prepared_query)\n",
    "    print(f\"Species {code} has {cur2.fetchone()[0]} nests\")\n",
    "    cur2.close()"
   ]
  },
  {
   "cell_type": "markdown",
   "metadata": {},
   "source": [
    "The above Python interpolation is dangerous an dhas caused many database hacks!\n",
    "\n",
    "Theres a better way:"
   ]
  },
  {
   "cell_type": "code",
   "execution_count": 16,
   "metadata": {},
   "outputs": [
    {
     "name": "stdout",
     "output_type": "stream",
     "text": [
      "Intel MKL WARNING: Support of Intel(R) Streaming SIMD Extensions 4.2 (Intel(R) SSE4.2) enabled only processors has been deprecated. Intel oneAPI Math Kernel Library 2025.0 will require Intel(R) Advanced Vector Extensions (Intel(R) AVX) instructions.\n",
      "Intel MKL WARNING: Support of Intel(R) Streaming SIMD Extensions 4.2 (Intel(R) SSE4.2) enabled only processors has been deprecated. Intel oneAPI Math Kernel Library 2025.0 will require Intel(R) Advanced Vector Extensions (Intel(R) AVX) instructions.\n",
      "Species agsq has 0 nests\n",
      "Species amcr has 0 nests\n",
      "Species amgp has 29 nests\n"
     ]
    }
   ],
   "source": [
    "# change the query for Species to a '?' instead of a '%s'\n",
    "query = \"\"\"\n",
    "    SELECT COUNT(*) FROM Bird_nests\n",
    "    WHERE Species = ? \n",
    "\"\"\"\n",
    "\n",
    "cur.execute(\"SELECT Code FROM Species LIMIT 3\")\n",
    "for row in cur.fetchall(): # DuckDB workaround\n",
    "    code = row[0]\n",
    "    # NOT NEEDED prepared_query = query % code\n",
    "    #print(prepared_query)\n",
    "    cur2 = conn.cursor()\n",
    "    cur2.execute(query, [code]) # <-- added new argument here...ADD in [code] value to fill in for ?\n",
    "    print(f\"Species {code} has {cur2.fetchone()[0]} nests\")\n",
    "    cur2.close()"
   ]
  },
  {
   "cell_type": "markdown",
   "metadata": {},
   "source": [
    "Let's illustrate the danger with a different example...\n",
    "\n",
    "Adding something else to the personell columnS"
   ]
  },
  {
   "cell_type": "code",
   "execution_count": 17,
   "metadata": {},
   "outputs": [
    {
     "data": {
      "text/plain": [
       "<duckdb.duckdb.DuckDBPyConnection at 0x7f7898dbceb0>"
      ]
     },
     "execution_count": 17,
     "metadata": {},
     "output_type": "execute_result"
    }
   ],
   "source": [
    "abbrev = \"TS\"\n",
    "name = \"Taylor Swift\"\n",
    "cur.execute(\"\"\"\n",
    "    INSERT INTO Personnel (Abbreviation, Name)\n",
    "            VALUES('%s', '%s')\n",
    "\"\"\" % (abbrev, name))"
   ]
  },
  {
   "cell_type": "code",
   "execution_count": 18,
   "metadata": {},
   "outputs": [
    {
     "data": {
      "text/plain": [
       "[('emagnuson', 'Emily Magnuson'),\n",
       " ('mcorrell', 'Maureen Correll'),\n",
       " ('TS', 'Taylor Swift')]"
      ]
     },
     "execution_count": 18,
     "metadata": {},
     "output_type": "execute_result"
    }
   ],
   "source": [
    "# check the personnel\n",
    "cur.execute(\"SELECT * FROM Personnel\")\n",
    "cur.fetchall()[-3:]"
   ]
  },
  {
   "cell_type": "markdown",
   "metadata": {},
   "source": [
    "Get a syntax error because of the apostraphe ' "
   ]
  },
  {
   "cell_type": "code",
   "execution_count": 19,
   "metadata": {},
   "outputs": [
    {
     "ename": "ParserException",
     "evalue": "Parser Error: syntax error at or near \"Brian\"",
     "output_type": "error",
     "traceback": [
      "\u001b[0;31m---------------------------------------------------------------------------\u001b[0m",
      "\u001b[0;31mParserException\u001b[0m                           Traceback (most recent call last)",
      "Cell \u001b[0;32mIn[19], line 3\u001b[0m\n\u001b[1;32m      1\u001b[0m abbrev \u001b[39m=\u001b[39m \u001b[39m\"\u001b[39m\u001b[39mCO\u001b[39m\u001b[39m\"\u001b[39m\n\u001b[1;32m      2\u001b[0m name \u001b[39m=\u001b[39m \u001b[39m\"\u001b[39m\u001b[39mConan O\u001b[39m\u001b[39m'\u001b[39m\u001b[39mBrian\u001b[39m\u001b[39m\"\u001b[39m\n\u001b[0;32m----> 3\u001b[0m cur\u001b[39m.\u001b[39;49mexecute(\u001b[39m\"\"\"\u001b[39;49m\n\u001b[1;32m      4\u001b[0m \u001b[39m    INSERT INTO Personnel (Abbreviation, Name)\u001b[39;49m\n\u001b[1;32m      5\u001b[0m \u001b[39m            VALUES(\u001b[39;49m\u001b[39m'\u001b[39;49m\u001b[39m%s\u001b[39;49;00m\u001b[39m'\u001b[39;49m\u001b[39m, \u001b[39;49m\u001b[39m'\u001b[39;49m\u001b[39m%s\u001b[39;49;00m\u001b[39m'\u001b[39;49m\u001b[39m)\u001b[39;49m\n\u001b[1;32m      6\u001b[0m \u001b[39m\"\"\"\u001b[39;49m \u001b[39m%\u001b[39;49m (abbrev, name))\n",
      "\u001b[0;31mParserException\u001b[0m: Parser Error: syntax error at or near \"Brian\""
     ]
    }
   ],
   "source": [
    "abbrev = \"CO\"\n",
    "name = \"Conan O'Brian\" # this will cause an error in the code below\n",
    "cur.execute(\"\"\"\n",
    "    INSERT INTO Personnel (Abbreviation, Name)\n",
    "            VALUES('%s', '%s')\n",
    "\"\"\" % (abbrev, name))"
   ]
  },
  {
   "cell_type": "markdown",
   "metadata": {},
   "source": [
    "Now try using the ? method:"
   ]
  },
  {
   "cell_type": "code",
   "execution_count": 20,
   "metadata": {},
   "outputs": [
    {
     "data": {
      "text/plain": [
       "<duckdb.duckdb.DuckDBPyConnection at 0x7f7898dbceb0>"
      ]
     },
     "execution_count": 20,
     "metadata": {},
     "output_type": "execute_result"
    }
   ],
   "source": [
    "abbrev = \"CO\"\n",
    "name = \"Conan O'Brian\" # this will cause an error in the code below\n",
    "cur.execute(\"\"\"\n",
    "    INSERT INTO Personnel (Abbreviation, Name)\n",
    "            VALUES(?,?)\n",
    "\"\"\",\n",
    " [abbrev, name])"
   ]
  },
  {
   "cell_type": "code",
   "execution_count": 21,
   "metadata": {},
   "outputs": [
    {
     "data": {
      "text/plain": [
       "[('mcorrell', 'Maureen Correll'),\n",
       " ('TS', 'Taylor Swift'),\n",
       " ('CO', \"Conan O'Brian\")]"
      ]
     },
     "execution_count": 21,
     "metadata": {},
     "output_type": "execute_result"
    }
   ],
   "source": [
    "# check the personnel\n",
    "cur.execute(\"SELECT * FROM Personnel\")\n",
    "cur.fetchall()[-3:]"
   ]
  },
  {
   "cell_type": "code",
   "execution_count": 5,
   "metadata": {},
   "outputs": [
    {
     "data": {
      "text/plain": [
       "[(2005,\n",
       "  'bylo',\n",
       "  'lmckinnon',\n",
       "  datetime.date(2005, 6, 1),\n",
       "  datetime.date(2005, 8, 5)),\n",
       " (2005,\n",
       "  'bylo',\n",
       "  'blalibert',\n",
       "  datetime.date(2005, 6, 1),\n",
       "  datetime.date(2005, 8, 20)),\n",
       " (2006,\n",
       "  'bylo',\n",
       "  'lmckinnon',\n",
       "  datetime.date(2006, 6, 1),\n",
       "  datetime.date(2006, 8, 5))]"
      ]
     },
     "execution_count": 5,
     "metadata": {},
     "output_type": "execute_result"
    }
   ],
   "source": [
    "cur.execute(\"SELECT * FROM Camp_assignment LIMIT 3\")\n",
    "cur.fetchall()"
   ]
  },
  {
   "cell_type": "code",
   "execution_count": 31,
   "metadata": {},
   "outputs": [
    {
     "name": "stdout",
     "output_type": "stream",
     "text": [
      "Intel MKL WARNING: Support of Intel(R) Streaming SIMD Extensions 4.2 (Intel(R) SSE4.2) enabled only processors has been deprecated. Intel oneAPI Math Kernel Library 2025.0 will require Intel(R) Advanced Vector Extensions (Intel(R) AVX) instructions.\n",
      "Intel MKL WARNING: Support of Intel(R) Streaming SIMD Extensions 4.2 (Intel(R) SSE4.2) enabled only processors has been deprecated. Intel oneAPI Math Kernel Library 2025.0 will require Intel(R) Advanced Vector Extensions (Intel(R) AVX) instructions.\n"
     ]
    },
    {
     "ename": "IndexError",
     "evalue": "tuple index out of range",
     "output_type": "error",
     "traceback": [
      "\u001b[0;31m---------------------------------------------------------------------------\u001b[0m",
      "\u001b[0;31mIndexError\u001b[0m                                Traceback (most recent call last)",
      "Cell \u001b[0;32mIn[31], line 14\u001b[0m\n\u001b[1;32m     12\u001b[0m cur2 \u001b[39m=\u001b[39m conn\u001b[39m.\u001b[39mcursor()\n\u001b[1;32m     13\u001b[0m cur2\u001b[39m.\u001b[39mexecute(inner_query, [observer])\n\u001b[0;32m---> 14\u001b[0m \u001b[39mprint\u001b[39m(\u001b[39mf\u001b[39m\u001b[39m\"\u001b[39m\u001b[39mObserver \u001b[39m\u001b[39m{\u001b[39;00mobserver\u001b[39m}\u001b[39;00m\u001b[39m gathered \u001b[39m\u001b[39m{\u001b[39;00mcur2\u001b[39m.\u001b[39mfetchone()[\u001b[39m1\u001b[39m]\u001b[39m}\u001b[39;00m\u001b[39m nests\u001b[39m\u001b[39m\"\u001b[39m)\n",
      "\u001b[0;31mIndexError\u001b[0m: tuple index out of range"
     ]
    }
   ],
   "source": [
    "inner_query = \"\"\"\n",
    "SELECT COUNT(*) AS num_nests\n",
    "FROM Bird_nests\n",
    "WHERE Observer = ?\n",
    "\"\"\"\n",
    "\n",
    "outer_query = \"\"\"\n",
    "SELECT DISTINCT Observer FROM Bird_nests\n",
    "\"\"\"\n",
    "for row in cur.execute(outer_query).fetchall():\n",
    "    observer = row[0]\n",
    "    cur2 = conn.cursor()\n",
    "    cur2.execute(inner_query, [observer])\n",
    "    print(f\"Observer {observer} gathered {cur2.fetchone()[1]} nests\")"
   ]
  },
  {
   "cell_type": "markdown",
   "metadata": {},
   "source": [
    "Pandas"
   ]
  },
  {
   "cell_type": "code",
   "execution_count": 81,
   "metadata": {},
   "outputs": [],
   "source": [
    "import pandas as pd"
   ]
  },
  {
   "cell_type": "code",
   "execution_count": 9,
   "metadata": {},
   "outputs": [
    {
     "name": "stderr",
     "output_type": "stream",
     "text": [
      "/var/folders/vq/jdpflwyd4g98r1shmddsmhyw0000gn/T/ipykernel_61563/2832309421.py:1: UserWarning: pandas only supports SQLAlchemy connectable (engine/connection) or database string URI or sqlite3 DBAPI2 connection. Other DBAPI2 objects are not tested. Please consider using SQLAlchemy.\n",
      "  df = pd.read_sql(\"SELECT * FROM Site\", conn)\n"
     ]
    }
   ],
   "source": [
    "df = pd.read_sql(\"SELECT * FROM Site\", conn)"
   ]
  },
  {
   "cell_type": "markdown",
   "metadata": {},
   "source": [
    "Assignmnets Week 6: \n",
    "\n",
    "Part 1"
   ]
  },
  {
   "cell_type": "code",
   "execution_count": 14,
   "metadata": {},
   "outputs": [],
   "source": [
    "species_query = \"\"\"SELECT Code, Scientific_name FROM Species\n",
    "    WHERE Code IN (SELECT DISTINCT Species FROM Bird_nests)\"\"\"\n"
   ]
  },
  {
   "cell_type": "markdown",
   "metadata": {},
   "source": [
    "Part 2 and 3"
   ]
  },
  {
   "cell_type": "code",
   "execution_count": 76,
   "metadata": {},
   "outputs": [],
   "source": [
    "egg_query = \"\"\"SELECT Nest_ID, Width*Width*Length AS Volume, Width, Length\n",
    "FROM Bird_eggs \n",
    "JOIN Bird_nests USING (Nest_ID)\n",
    "WHERE Species = ?\"\"\""
   ]
  },
  {
   "cell_type": "code",
   "execution_count": null,
   "metadata": {},
   "outputs": [],
   "source": [
    "cur.execute(\"SELECT * Book_page FROM Bird_eggs\")\n",
    "cur.execute(\"DESCRIBE Bird_nests\")\n",
    "cur.execute(\"SELECT Nest_ID, Width*Width*Length AS Volume FROM Bird_eggs JOIN Bird_nests USING (Nest_ID)\")\n",
    "cur.fetchall()"
   ]
  },
  {
   "cell_type": "code",
   "execution_count": 85,
   "metadata": {},
   "outputs": [
    {
     "name": "stdout",
     "output_type": "stream",
     "text": [
      "width [16836.818359375, 17232.7265625, 19228.296875, 18786.35546875, 18581.94921875, 20191.458984375, 19136.328125, 18994.41796875, 18024.404296875, 19474.55859375, 20884.5, 19320.279296875, 18644.650390625, 18177.982421875, 18427.794921875, 19597.37890625, 17458.599609375, 19273.044921875, 18551.263671875, 16940.0, 14400.0, 21546.34375, 15413.263671875, 16437.751953125, 18376.349609375, 35889.6328125, 18759.25390625, 19909.255859375, 18894.99609375, 21567.29296875, 18934.404296875, 18374.400390625, 20288.44921875, 20071.962890625, 19408.734375, 21125.0, 17959.966796875, 18198.759765625, 16686.861328125, 17974.08203125, 19078.4140625, 19667.701171875, 19705.908203125, 19388.07421875, 18028.798828125, 18547.201171875, 18423.43359375, 18527.837890625, 17385.15234375, 17340.650390625, 17761.921875, 17481.056640625, 17767.025390625, 18335.83984375, 18353.595703125, 18353.595703125, 20151.828125, 18585.919921875, 21168.3359375, 18621.443359375, 20091.314453125, 18950.400390625, 17899.501953125, 20560.03515625, 18967.900390625, 18489.599609375, 19111.0546875, 19667.701171875, 19468.271484375, 18278.71875, 19238.400390625, 19249.97265625, 19365.12109375, 19051.51953125, 19849.248046875, 21464.896484375, 19765.951171875, 21034.3671875, 20625.0, 17772.787109375, 21058.9609375, 18487.69921875, 19435.263671875, 18555.599609375, 19515.21484375, 18058.576171875, 19929.599609375, 18934.404296875, 21187.5, 21420.33984375, 19568.1484375, 19825.486328125, 19545.21875, 19087.94921875, 18692.517578125, 17878.416015625, 18086.400390625, 17837.673828125, 17395.875, 18862.44921875, 17022.16015625, 17481.056640625, 18409.298828125, 19408.734375, 18239.3671875, 18702.08203125, 20194.7578125, 18392.9609375, 19443.248046875, 18777.58203125, 19282.892578125, 19457.134765625, 20315.998046875, 19677.50390625, 20135.70703125, 19434.474609375, 20146.017578125, 20026.322265625, 19309.0234375, 19183.57421875, 17591.78515625, 15976.2548828125, 16667.037109375, 15907.296875, 21235.06640625, 19518.75, 19647.283203125, 20594.384765625, 16483.40625, 16632.57421875, 16240.734375, 16001.1064453125, 20312.572265625, 20718.65625, 19044.001953125, 18914.224609375, 20312.572265625, 20718.65625, 19044.001953125, 18914.224609375, 16465.59765625, 18139.02734375, 17179.62109375, 17782.6953125, 17273.845703125, 19807.515625, 17759.48828125, 19269.4375, 19558.150390625, 18297.0, 17985.177734375, 18834.18359375, 19986.716796875, 18580.455078125, 19577.509765625, 19025.671875, 19397.634765625, 20170.79296875, 20426.912109375, 20290.041015625, 18923.314453125, 18651.07421875, 18024.158203125, 17759.55859375, 18410.4375, 18110.353515625, 16460.8984375, 17397.83984375, 18367.537109375, 17790.55078125, 18242.654296875, 18640.208984375, 18954.25, 19211.103515625, 19448.255859375, 21403.5, 19701.35546875, 19948.89453125, 20980.8046875, 16999.34765625, 19353.345703125, 19447.59765625, 18798.619140625, 18387.73046875, 19843.59765625, 18891.33984375, 18837.123046875, 19208.71875, 18589.720703125, 18111.328125, 18651.205078125, 16831.458984375, 16630.46875, 17217.421875, 16536.109375, 19537.4296875, 19608.904296875, 19979.701171875, 19459.65625, 19204.78515625, 18395.349609375, 15506.7900390625, 17876.416015625, 19661.91796875, 17948.125, 17910.185546875, 20297.287109375, 18625.599609375, 19419.677734375, 27635.611328125, 19105.619140625, 18304.654296875, 17997.5, 17370.171875, 19012.94140625, 18819.50390625, 18940.9296875, 19225.828125, 19041.201171875, 19474.974609375, 20051.81640625, 19401.05078125, 17498.65625, 17727.857421875, 17462.51953125, 17614.3671875, 19147.94140625, 20085.30859375, 19079.609375, 19339.65625, 19249.86328125, 19652.83203125, 19745.958984375, 20024.978515625, 17720.0625, 17296.7890625, 17217.23046875, 17301.904296875, 19189.61328125, 18852.48046875, 18952.69140625, 19400.1484375, 19813.51171875, 19744.15625, 17262.26171875, 17837.373046875, 17470.53125, 17107.296875, 21422.9765625, 19567.673828125, 19740.6796875, 19279.626953125, 18885.921875, 19807.552734375, 19306.125, 19014.3828125, 18530.060546875, 17729.7109375, 17846.888671875, 18872.912109375, 18644.0, 19681.279296875, 19127.744140625] length [23.09000015258789, 23.649999618530273, 23.940000534057617, 24.459999084472656, 23.780000686645508, 24.059999465942383, 24.18000030517578, 24.25, 23.6299991607666, 24.100000381469727, 24.18000030517578, 24.270000457763672, 23.489999771118164, 23.649999618530273, 23.790000915527344, 23.979999542236328, 23.049999237060547, 23.950000762939453, 24.06999969482422, 22.0, 24.0, 25.100000381469727, 21.940000534057617, 22.700000762939453, 23.959999084472656, 33.599998474121094, 23.809999465942383, 24.110000610351562, 24.479999542236328, 24.81999969482422, 24.100000381469727, 24.0, 24.5, 24.700000762939453, 24.399999618530273, 25.0, 23.399999618530273, 23.700000762939453, 22.799999237060547, 23.700000762939453, 23.899999618530273, 24.600000381469727, 24.700000762939453, 24.5, 24.0, 24.0, 23.700000762939453, 24.100000381469727, 23.200000762939453, 23.5, 23.200000762939453, 23.299999237060547, 23.600000381469727, 23.899999618530273, 24.100000381469727, 24.100000381469727, 24.600000381469727, 24.100000381469727, 25.100000381469727, 23.899999618530273, 24.600000381469727, 24.0, 23.799999237060547, 24.700000762939453, 24.5, 24.0, 24.399999618530273, 24.600000381469727, 24.399999618530273, 23.899999618530273, 24.0, 24.299999237060547, 24.600000381469727, 24.399999618530273, 24.600000381469727, 24.799999237060547, 24.399999618530273, 24.799999237060547, 25.0, 24.100000381469727, 25.299999237060547, 24.5, 24.799999237060547, 23.5, 24.100000381469727, 23.5, 24.0, 24.100000381469727, 25.0, 25.100000381469727, 24.5, 24.399999618530273, 24.299999237060547, 24.5, 23.799999237060547, 23.600000381469727, 24.0, 23.5, 23.5, 23.799999237060547, 23.100000381469727, 23.299999237060547, 23.799999237060547, 24.399999618530273, 23.799999237060547, 24.100000381469727, 24.299999237060547, 23.899999618530273, 24.200000762939453, 24.299999237060547, 24.100000381469727, 24.100000381469727, 24.700000762939453, 24.200000762939453, 24.299999237060547, 23.700000762939453, 24.200000762939453, 24.899999618530273, 24.299999237060547, 24.600000381469727, 22.770000457763672, 22.510000228881836, 22.790000915527344, 22.829999923706055, 24.770000457763672, 25.0, 24.690000534057617, 25.610000610351562, 22.850000381469727, 22.8700008392334, 23.239999771118164, 22.690000534057617, 24.75, 24.700000762939453, 24.030000686645508, 24.209999084472656, 24.75, 24.700000762939453, 24.030000686645508, 24.209999084472656, 22.780000686645508, 23.030000686645508, 22.81999969482422, 23.049999237060547, 23.40999984741211, 25.100000381469727, 24.25, 24.959999084472656, 24.459999084472656, 23.719999313354492, 24.110000610351562, 24.200000762939453, 24.670000076293945, 24.3799991607666, 24.81999969482422, 24.459999084472656, 23.84000015258789, 24.559999465942383, 24.450000762939453, 24.739999771118164, 24.510000228881836, 24.260000228881836, 23.829999923706055, 24.209999084472656, 23.670000076293945, 23.43000030517578, 22.229999542236328, 23.520000457763672, 24.309999465942383, 23.690000534057617, 23.780000686645508, 23.719999313354492, 24.049999237060547, 23.940000534057617, 24.3799991607666, 25.510000228881836, 24.639999389648438, 24.760000228881836, 24.969999313354492, 23.6200008392334, 24.049999237060547, 24.209999084472656, 24.079999923706055, 24.020000457763672, 24.469999313354492, 23.3799991607666, 23.90999984741211, 24.6200008392334, 24.110000610351562, 23.719999313354492, 24.309999465942383, 22.920000076293945, 23.079999923706055, 23.479999542236328, 22.799999237060547, 24.639999389648438, 24.229999542236328, 25.329999923706055, 24.530000686645508, 24.31999969482422, 23.700000762939453, 23.329999923706055, 23.309999465942383, 24.850000381469727, 23.5, 23.989999771118164, 24.479999542236328, 23.90999984741211, 23.649999618530273, 28.860000610351562, 23.739999771118164, 24.209999084472656, 24.239999771118164, 23.389999389648438, 24.670000076293945, 24.059999465942383, 24.579999923706055, 24.959999084472656, 24.719999313354492, 23.8700008392334, 24.440000534057617, 24.280000686645508, 23.010000228881836, 23.219999313354492, 23.229999542236328, 23.479999542236328, 24.030000686645508, 24.15999984741211, 24.170000076293945, 24.149999618530273, 23.84000015258789, 24.399999618530273, 24.479999542236328, 24.420000076293945, 23.8700008392334, 23.3700008392334, 23.510000228881836, 23.530000686645508, 24.139999389648438, 24.0, 23.610000610351562, 23.540000915527344, 23.93000030517578, 23.639999389648438, 23.59000015258789, 23.31999969482422, 24.139999389648438, 22.950000762939453, 25.579999923706055, 24.270000457763672, 24.110000610351562, 23.440000534057617, 23.520000457763672, 24.079999923706055, 24.100000381469727, 24.530000686645508, 24.059999465942383, 23.59000015258789, 23.719999313354492, 24.399999618530273, 24.100000381469727, 24.799999237060547, 24.799999237060547]\n",
      "width [] length []\n",
      "width [15369.4091796875, 16180.7294921875, 16287.6298828125, 16424.42578125, 15313.947265625, 15803.6484375, 16130.244140625, 16790.37890625, 14816.875, 15614.9052734375, 15803.517578125, 15423.8466796875, 16291.5205078125, 17239.84765625, 17073.154296875, 17472.740234375] length [21.790000915527344, 22.149999618530273, 22.389999389648438, 22.469999313354492, 21.899999618530273, 22.229999542236328, 22.420000076293945, 22.559999465942383, 21.739999771118164, 22.299999237060547, 22.420000076293945, 22.440000534057617, 22.290000915527344, 23.110000610351562, 23.15999984741211, 23.280000686645508]\n",
      "width [] length []\n",
      "width [20778.173828125, 20857.626953125, 20141.640625, 39703.90234375, 17922.4609375, 18447.982421875, 19956.2578125, 20463.80078125, 20514.232421875, 21604.015625, 18913.34765625, 19010.5078125, 19590.443359375, 19417.7109375, 18323.16796875, 19012.111328125, 18704.279296875, 18941.5078125, 17671.98046875, 17213.830078125, 17632.08984375, 19966.564453125, 18384.048828125, 17794.908203125, 19120.263671875, 18676.916015625, 17915.720703125, 19388.568359375, 16111.4619140625, 16905.90234375, 17216.19921875, 17379.0859375, 18475.794921875, 19174.419921875, 18670.677734375, 19921.439453125, 17276.283203125, 18612.58203125, 19236.544921875, 19182.189453125, 18419.755859375, 18529.232421875, 19693.439453125, 19502.5859375, 18614.0625, 19008.0, 19584.0] length [24.709999084472656, 24.790000915527344, 24.959999084472656, 34.36000061035156, 23.34000015258789, 23.530000686645508, 23.770000457763672, 24.260000228881836, 24.469999313354492, 24.469999313354492, 23.850000381469727, 23.940000534057617, 24.149999618530273, 24.31999969482422, 24.229999542236328, 24.389999389648438, 24.520000457763672, 24.600000381469727, 22.920000076293945, 23.149999618530273, 23.260000228881836, 24.18000030517578, 23.440000534057617, 23.489999771118164, 24.100000381469727, 24.110000610351562, 23.68000030517578, 24.350000381469727, 22.579999923706055, 23.1299991607666, 23.1299991607666, 23.25, 23.809999465942383, 23.90999984741211, 24.170000076293945, 24.469999313354492, 22.229999542236328, 23.15999984741211, 23.6200008392334, 23.770000457763672, 23.59000015258789, 23.65999984741211, 24.0, 24.059999465942383, 23.75, 24.0, 24.0]\n",
      "width [] length []\n",
      "width [] length []\n",
      "width [42623.4609375, 46279.16796875, 53870.39453125, 49803.390625, 50524.95703125, 52089.09765625, 55937.11328125, 53017.21875, 58516.078125, 82498.984375] length [33.0, 33.38999938964844, 33.400001525878906, 32.36000061035156, 32.400001525878906, 32.400001525878906, 34.439998626708984, 32.220001220703125, 34.65999984741211, 42.599998474121094]\n",
      "width [18129.2578125, 27114.3828125, 30465.349609375, 38728.30078125, 31784.4140625, 35203.0859375, 34760.3515625, 35976.8671875, 35303.0234375, 37496.7109375, 36470.546875, 36400.875, 18129.2578125, 27114.3828125, 30465.349609375, 38728.30078125, 34270.02734375, 32679.935546875, 37211.96875, 42001.9296875, 44033.7109375, 45660.44140625, 46688.28515625] length [21.899999618530273, 26.200000762939453, 27.799999237060547, 31.0, 28.209999084472656, 29.09000015258789, 29.209999084472656, 29.31999969482422, 28.920000076293945, 28.950000762939453, 29.139999389648438, 29.290000915527344, 21.899999618530273, 26.200000762939453, 27.799999237060547, 31.0, 28.639999389648438, 28.799999237060547, 29.65999984741211, 39.5, 39.95000076293945, 40.77000045776367, 41.040000915527344]\n",
      "width [22976.552734375, 23460.568359375, 23576.3671875, 23206.162109375, 23200.333984375, 23714.8671875, 19850.609375, 20749.95703125, 22288.044921875, 22131.791015625, 22265.21484375] length [25.190000534057617, 25.3700008392334, 25.979999542236328, 26.110000610351562, 24.979999542236328, 25.309999465942383, 25.350000381469727, 24.3799991607666, 24.600000381469727, 24.93000030517578, 24.969999313354492]\n",
      "width [] length []\n",
      "width [] length []\n",
      "width [] length []\n",
      "width [] length []\n",
      "width [] length []\n",
      "width [] length []\n",
      "width [] length []\n",
      "width [] length []\n",
      "width [70019.4921875, 69170.4296875, 69156.4609375, 67871.515625, 68314.9453125, 72593.1484375, 69591.40625, 68801.2578125, 61784.03515625, 60826.2890625, 63847.16796875, 63269.140625, 59412.5, 64800.0, 66744.0, 71872.5, 63984.79296875, 62735.984375, 63149.9140625, 74258.6640625, 59318.109375, 60960.71484375, 67013.53125, 66541.96875, 57195.3984375, 61642.05859375, 62993.0, 63799.1953125, 63227.34765625, 60893.6953125, 63143.64453125, 65353.28515625, 56359.35546875, 57714.79296875, 66045.546875, 71563.3359375] length [35.5, 35.900001525878906, 35.95000076293945, 36.0, 35.099998474121094, 36.029998779296875, 36.099998474121094, 36.349998474121094, 34.650001525878906, 34.83000183105469, 35.31999969482422, 35.63999938964844, 35.0, 36.0, 36.0, 37.0, 35.619998931884766, 36.040000915527344, 36.13999938964844, 38.849998474121094, 35.11000061035156, 35.900001525878906, 36.40999984741211, 37.0099983215332, 34.20000076293945, 35.529998779296875, 35.58000183105469, 35.88999938964844, 34.720001220703125, 34.779998779296875, 34.779998779296875, 35.90999984741211, 33.5099983215332, 33.65999984741211, 35.560001373291016, 36.209999084472656]\n"
     ]
    }
   ],
   "source": [
    "for row in cur.execute(species_query).fetchall():  # DuckDB lame-o workaround\n",
    "    species_code = row[0]\n",
    "    scientific_name = row[1]\n",
    "    cur2 = conn.cursor()\n",
    "    rows = cur2.execute(egg_query, [species_code]).fetchall()\n",
    "\n",
    "    #print(rows)\n",
    "    #print(f\"species {species_code}\")\n",
    "\n",
    "    #width_column = [t[1] for t in rows]\n",
    "    #length_column = [t[2] for t in rows]\n",
    "\n",
    "    #print(f\"width {width_column} length {length_column}\")\n",
    "\n",
    "    \n",
    "    "
   ]
  },
  {
   "cell_type": "code",
   "execution_count": null,
   "metadata": {},
   "outputs": [],
   "source": []
  }
 ],
 "metadata": {
  "kernelspec": {
   "display_name": "Python (eds217_2023)",
   "language": "python",
   "name": "eds217_2023"
  },
  "language_info": {
   "codemirror_mode": {
    "name": "ipython",
    "version": 3
   },
   "file_extension": ".py",
   "mimetype": "text/x-python",
   "name": "python",
   "nbconvert_exporter": "python",
   "pygments_lexer": "ipython3",
   "version": "3.10.12"
  },
  "orig_nbformat": 4
 },
 "nbformat": 4,
 "nbformat_minor": 2
}
